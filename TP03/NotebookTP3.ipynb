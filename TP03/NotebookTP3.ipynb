{
 "cells": [
  {
   "cell_type": "markdown",
   "metadata": {},
   "source": [
    "# TP 3 : Programmation dynamique\n"
   ]
  },
  {
   "cell_type": "markdown",
   "metadata": {},
   "source": [
    "### Récupération des données"
   ]
  },
  {
   "cell_type": "code",
   "execution_count": 1,
   "metadata": {},
   "outputs": [
    {
     "data": {
      "text/plain": [
       "readKnaptxtInstance (generic function with 1 method)"
      ]
     },
     "metadata": {},
     "output_type": "display_data"
    }
   ],
   "source": [
    "function readKnaptxtInstance(filename)\n",
    "    price=Int64[]\n",
    "    weight=Int64[]\n",
    "    KnapCap=Int64[]\n",
    "    open(filename) do f\n",
    "        for i in 1:3\n",
    "            tok = split(readline(f))\n",
    "            if(tok[1] == \"ListPrices=\")\n",
    "                for i in 2:(length(tok)-1)\n",
    "                    push!(price,parse(Int64, tok[i]))\n",
    "                end\n",
    "            elseif(tok[1] == \"ListWeights=\")\n",
    "                for i in 2:(length(tok)-1)\n",
    "                    push!(weight,parse(Int64, tok[i]))\n",
    "                end\n",
    "            elseif(tok[1] == \"Capacity=\")\n",
    "                push!(KnapCap, parse(Int64, tok[2]))\n",
    "            else\n",
    "                println(\"Unknown read :\", tok)\n",
    "            end\n",
    "        end\n",
    "    end\n",
    "    capacity=KnapCap[1]\n",
    "    return price, weight, capacity\n",
    "end"
   ]
  },
  {
   "cell_type": "markdown",
   "metadata": {},
   "source": [
    "### Résolution"
   ]
  },
  {
   "cell_type": "code",
   "execution_count": 2,
   "metadata": {},
   "outputs": [
    {
     "data": {
      "text/plain": [
       "solveKnapInstance (generic function with 1 method)"
      ]
     },
     "metadata": {},
     "output_type": "display_data"
    }
   ],
   "source": [
    "function solveKnapInstance(filename, showtab)\n",
    "    price, weight, capacity = readKnaptxtInstance(filename)\n",
    "    Bestsol=Float64[]\n",
    "\n",
    "    # Relation de récurrence\n",
    "    # cas initial C_(i, 0) = 0, ∀ i\n",
    "    # récurrence C_(i,j) = max{ C_(i−1, j), C_(i−1, j−w_i) + c_i }\n",
    "    # j : poids maximal permis\n",
    "    # i : indice du dernier objet considéré\n",
    "    function C(i, j)\n",
    "        if j <= 0 || i <= 0\n",
    "            return 0\n",
    "        else\n",
    "            c1 = C(i-1, j)\n",
    "            if j-weight[i] < 0 # s'il n'y a plus de place, on ne peut pas ajouter l'objet\n",
    "                return c1\n",
    "            else # s'il y a de la place, maximisation de la marge\n",
    "                c2 = C(i-1, j-weight[i]) + price[i]\n",
    "                return max(c1, c2)\n",
    "            end\n",
    "        end\n",
    "    end\n",
    "\n",
    "    # Calcul de la meilleure marge\n",
    "    BestProfit = C(length(weight), capacity)\n",
    "\n",
    "    # Parcours à rebours à partir de la dernière décision pour obtenir la meilleure solution\n",
    "    i = length(weight)\n",
    "    j = capacity\n",
    "    while i > 1\n",
    "        # deux choix pour la dernière décision :\n",
    "        c1 = C(i-1,j) \n",
    "        c2 = C(i-1,j-weight[i]) + price[i] \n",
    "        if c1 > c2 # on a pas pris l'objet\n",
    "            j = j\n",
    "            i = i-1\n",
    "        else # on a pris l'objet\n",
    "            push!(Bestsol, i)\n",
    "            j = j-weight[i]\n",
    "            i = i-1\n",
    "        end\n",
    "    end\n",
    "\n",
    "    # Affichage des résulats\n",
    "    if showtab\n",
    "        print(\"\\t\")\n",
    "        for j in 0:capacity\n",
    "            print(\"j=\", j, \"\\t\")\n",
    "        end\n",
    "        print(\"\\n\")\n",
    "        for i in 1:(length(weight))\n",
    "            print(\"i=\", i, \"\\t\")\n",
    "            for j in 0:capacity\n",
    "                print(C(i,j), \"\\t\")\n",
    "            end\n",
    "            print(\"\\n\")\n",
    "        end\n",
    "    end\n",
    "\n",
    "    println(\"\\n******\\n\\nOptimal value = \", BestProfit, \"\\n\\nOptimal x=\", Bestsol)\n",
    "\n",
    "    return BestProfit, Bestsol\n",
    "\n",
    "end\n"
   ]
  },
  {
   "cell_type": "code",
   "execution_count": 4,
   "metadata": {},
   "outputs": [
    {
     "name": "stdout",
     "output_type": "stream",
     "text": [
      "\n",
      "******\n",
      "\n",
      "Optimal value = 999\n",
      "\n",
      "Optimal x=[20.0, 19.0, 18.0, 17.0, 16.0, 15.0, 14.0, 13.0, 12.0, 11.0, 10.0, 9.0, 8.0, 7.0, 6.0, 5.0, 4.0, 3.0, 2.0]\n"
     ]
    },
    {
     "data": {
      "text/plain": [
       "(999, [20.0, 19.0, 18.0, 17.0, 16.0, 15.0, 14.0, 13.0, 12.0, 11.0, 10.0, 9.0, 8.0, 7.0, 6.0, 5.0, 4.0, 3.0, 2.0])"
      ]
     },
     "metadata": {},
     "output_type": "display_data"
    }
   ],
   "source": [
    "INSTANCES = [\"InstancesKnapSack/test.opb.txt\", \"InstancesKnapSack/similar_weights/knapPI_9_50_1000_2_-997.opb.txt\", \"InstancesKnapSack/profit_ceiling/knapPI_15_20_1000_1_-999.opb.txt\", \"InstancesKnapSack/weakly_correlated_span/knapPI_12_20_1000_1_-970.opb.txt\"]\n",
    "\n",
    "INSTANCE_N = 3     # entre 1 et 4, pour lancer différents tests\n",
    "SHOW_TAB = false   # afficher le tableau ?\n",
    "\n",
    "solveKnapInstance(INSTANCES[INSTANCE_N], SHOW_TAB)"
   ]
  },
  {
   "cell_type": "markdown",
   "metadata": {},
   "source": [
    "### Question 1 : Programmation dynamique\n",
    "La programmation dynamique consiste à résoudre un problème en résolvant des sous-problèmes de tailles inférieures. Les valeurs obtenues pour les sous-problèmes permettent de résoudre le problème de taille supérieure. La résolution successive de sous-problèmes permet de résoudre le problème initial.\n",
    "\n",
    "Cette technique nécessite une relation de récurrence entre les valeurs des critères de deux niveaux successifs.\n",
    "\n",
    "### Question 2 : Cohérence du résultat\n",
    "Avec la première instance le résultat semblent bien en adéquation avec l'instance résolue : On obtient bien la solution trouvée avec l'algorithme de Branch&Bound implémenté lors du TP2 donc notre solution semblent cohérente.\n",
    "La solution est x=[4.0, 2.0] pour laquelle la valeur fonction-objectif est 65.\n",
    "\n",
    "### Question 3 : Fonctionnement de l'algorithme\n",
    "Nous avons implanté la relation de récurrence $C_{i,j} = max( C_{i−1, j}, C_{i−1, j−w_i} + c_i )$ par la fonction C.\n",
    "\n",
    "Nous calculons ensuite la valeur optimale de la fonction-objectif en appelant C avec les paramètres du problème. Pour obtenir la solution optimale, nous parcourons l'arbre de décision à rebours.\n",
    "\n",
    "Pour plus de détails, voir les commentaires du code.\n",
    "\n",
    "### Question 4 : Test\n",
    "\n",
    "| Instance         | 1 | 2 | 3 | 4 | \n",
    "|-------------------|---|---|---|---|\n",
    "| Valeure optimale | 65 | 997 | 999 | 970 | \n",
    "| Temps d'exécution (ms) | 4 | 9 | 3 | 5 |\n",
    "\n",
    "On trouve bien les mêmes solutions que lors du TP2 donc nos résultats sont cohérents\n",
    "\n",
    "### Question 5 : Comparaison des temps de calcl avec le B&B\n",
    "\n",
    "Lors du TP 2 nous avions trouvé les temps d'exécution suivants :\n",
    "\n",
    "**Borne 1**\n",
    "\n",
    "| Instance         | 1 | 2 | 3 | 4 | \n",
    "|-------------------|---|---|---|---|\n",
    "| Temps d'exécution (ms) | 21 | 714 | 748 | 82 | \n",
    "\n",
    "\n",
    "**Borne 2**\n",
    "\n",
    "| Instance         | 1 | 2 | 3 | 4 | \n",
    "|-------------------|---|---|---|---|\n",
    "| Temps d'exécution (ms) | 19 | 257 | 444 | 42 | \n",
    "\n",
    "On observe que le temps d'exécution de notre algorithme de programmation dynamique est bien inférieur à la solution apportée par l'algorithme du TP 2.\n",
    "\n",
    "**Comparaison des rapport de réduction des temps d'exécution par rapport à la borne 1 du Branch & Bound**\n",
    "\n",
    "| Instance         | 1 | 2 | 3 | 4 | \n",
    "|-------------------|---|---|---|---|\n",
    "| B&B Borne 1 | - | - | - | - | \n",
    "| B&B Borne 2 | 10% | 64% | 41% |49% | \n",
    "| Progammation Dynamique | 81% | 99% | 99.9% | 99% | \n",
    "\n",
    "La programmation dynamique semble ainsi bien plus efficace que la méthode du Branch & Bound pour trouver la solution optimale de ces problèmes."
   ]
  }
 ],
 "metadata": {
  "kernelspec": {
   "display_name": "Julia 1.9.3",
   "language": "julia",
   "name": "julia-1.9"
  },
  "language_info": {
   "file_extension": ".jl",
   "mimetype": "application/julia",
   "name": "julia",
   "version": "1.9.3"
  }
 },
 "nbformat": 4,
 "nbformat_minor": 4
}
