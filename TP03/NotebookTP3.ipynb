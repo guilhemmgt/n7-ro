{
 "cells": [
  {
   "cell_type": "markdown",
   "metadata": {},
   "source": [
    "# TP 3\n"
   ]
  },
  {
   "cell_type": "markdown",
   "metadata": {},
   "source": [
    "relation de récurrence : C_i,j = max{C_i−1,j, C_i−1,j−wi + c_i}"
   ]
  },
  {
   "cell_type": "markdown",
   "metadata": {},
   "source": [
    "### Initialisation (à faire une seule fois)"
   ]
  },
  {
   "cell_type": "markdown",
   "metadata": {},
   "source": [
    "### Récupération des données"
   ]
  },
  {
   "cell_type": "code",
   "execution_count": 8,
   "metadata": {},
   "outputs": [
    {
     "data": {
      "text/plain": [
       "readKnaptxtInstance (generic function with 1 method)"
      ]
     },
     "metadata": {},
     "output_type": "display_data"
    }
   ],
   "source": [
    "function readKnaptxtInstance(filename)\n",
    "    price=Int64[]\n",
    "    weight=Int64[]\n",
    "    KnapCap=Int64[]\n",
    "    open(filename) do f\n",
    "        for i in 1:3\n",
    "            tok = split(readline(f))\n",
    "            if(tok[1] == \"ListPrices=\")\n",
    "                for i in 2:(length(tok)-1)\n",
    "                    push!(price,parse(Int64, tok[i]))\n",
    "                end\n",
    "            elseif(tok[1] == \"ListWeights=\")\n",
    "                for i in 2:(length(tok)-1)\n",
    "                    push!(weight,parse(Int64, tok[i]))\n",
    "                end\n",
    "            elseif(tok[1] == \"Capacity=\")\n",
    "                push!(KnapCap, parse(Int64, tok[2]))\n",
    "            else\n",
    "                println(\"Unknown read :\", tok)\n",
    "            end\n",
    "        end\n",
    "    end\n",
    "    capacity=KnapCap[1]\n",
    "    return price, weight, capacity\n",
    "end"
   ]
  },
  {
   "cell_type": "code",
   "execution_count": 15,
   "metadata": {},
   "outputs": [
    {
     "data": {
      "text/plain": [
       "solveKnapInstance (generic function with 1 method)"
      ]
     },
     "metadata": {},
     "output_type": "display_data"
    }
   ],
   "source": [
    "function solveKnapInstance(filename)\n",
    "    price, weight, capacity = readKnaptxtInstance(filename)\n",
    "    Bestsol=Float64[]\n",
    "\n",
    "    # Relation de récurrence\n",
    "    # init: C_(i, 0) = 0, ∀ i\n",
    "    # récurrence: C_(i,j) = max{ C_(i−1, j), C_(i−1, j−w_i) + c_i }\n",
    "    function C(i, j)\n",
    "        if j <= 0 || i <= 0\n",
    "            return 0\n",
    "        else\n",
    "            c1 = C(i-1, j)\n",
    "            c2 = C(i-1, j-weight[i]) + price[i]\n",
    "            if j-weight[i] < 0\n",
    "                return c1\n",
    "            else\n",
    "                return max(c1, c2)\n",
    "            end\n",
    "        end\n",
    "    end\n",
    "\n",
    "    # Calcul de la meilleure marge\n",
    "    BestProfit = C(length(weight), capacity)\n",
    "\n",
    "    # Parcours à rebours à partir de la dernière décision pour obtenir la meilleure solution\n",
    "    i = length(weight)\n",
    "    j = capacity\n",
    "    while i > 1\n",
    "        c1 = C(i-1,j)\n",
    "        c2 = C(i-1,j-weight[i]) + price[i]\n",
    "        if c1 > c2\n",
    "            j = j\n",
    "            i = i-1\n",
    "        else\n",
    "            push!(Bestsol, i)\n",
    "            j = j-weight[i]\n",
    "            i = i-1\n",
    "        end\n",
    "    end\n",
    "\n",
    "    # Affichage des résulats\n",
    "    print(\"\\t\")\n",
    "    for j in 0:capacity\n",
    "        print(\"j=\", j, \"\\t\")\n",
    "    end\n",
    "    print(\"\\n\")\n",
    "    for i in 1:(length(weight))\n",
    "        print(\"i=\", i, \"\\t\")\n",
    "        for j in 0:capacity\n",
    "            print(C(i,j), \"\\t\")\n",
    "        end\n",
    "        print(\"\\n\")\n",
    "    end\n",
    "\n",
    "    println(\"\\n******\\n\\nOptimal value = \", BestProfit, \"\\n\\nOptimal x=\", Bestsol)\n",
    "\n",
    "    return BestProfit, Bestsol\n",
    "\n",
    "end\n"
   ]
  },
  {
   "cell_type": "code",
   "execution_count": 23,
   "metadata": {},
   "outputs": [
    {
     "name": "stdout",
     "output_type": "stream",
     "text": [
      "\tj=0\tj=1\tj=2\tj=3\tj=4\tj=5\tj=6\tj=7\tj=8\tj=9\tj=10\t\n",
      "i=1\t0\t0\t0\t0\t0\t0\t0\t42\t42\t42\t42\t\n",
      "i=2\t0\t0\t0\t0\t40\t40\t40\t42\t42\t42\t42\t\n",
      "i=3\t0\t0\t0\t12\t40\t40\t40\t52\t52\t52\t54\t\n",
      "i=4\t0\t0\t0\t12\t40\t40\t40\t52\t52\t65\t65\t\n",
      "\n",
      "******\n",
      "\n",
      "Optimal value = 65\n",
      "\n",
      "Optimal x=[4.0, 2.0]\n"
     ]
    },
    {
     "data": {
      "text/plain": [
       "(65, [4.0, 2.0])"
      ]
     },
     "metadata": {},
     "output_type": "display_data"
    }
   ],
   "source": [
    "INSTANCES = [\"InstancesKnapSack/test.opb.txt\", \"InstancesKnapSack/similar_weights/knapPI_9_50_1000_2_-997.opb.txt\", \"InstancesKnapSack/profit_ceiling/knapPI_15_20_1000_1_-999.opb.txt\", \"InstancesKnapSack/weakly_correlated_span/knapPI_12_20_1000_1_-970.opb.txt\"]\n",
    "\n",
    "INSTANCE_N = 1     # entre 1 et 4, pour lancer différents tests\n",
    "\n",
    "solveKnapInstance(INSTANCES[INSTANCE_N])"
   ]
  },
  {
   "cell_type": "markdown",
   "metadata": {},
   "source": [
    "### Question 1 : Programmation dynamique\n",
    "La programmation dynamique consiste à résoudre un problème en résolvant des sous-problèmes de tailles inférieures. Les valeurs obtenues pour les sous-problèmes permettent de résoudre le problème de taille supérieure. La résolution successive de sous-problèmes permet de résoudre le problème initial.\n",
    "\n",
    "Cette technique nécessite une relation de récurrence entre les valeurs des critères de deux niveaux successifs.\n",
    "\n",
    "### Question 2 : Cohérence du résultat\n",
    "Avec la première instance le résultat semblent bien en adéquation avec l'instance résolue : On obtient bien la solution trouvée avec l'algorithme de Branch&Bound implémenté lors du TP2 donc notre solution semblent cohérente.\n",
    "La solution est x=[4.0, 2.0] pour laquelle la valeur fonction-objet est 65.\n",
    "\n",
    "### Question 3 : Fonctionnement de l'algorithme\n",
    "\n",
    "### Question 4 : Test\n",
    "\n",
    "| Instance         | 1 | 2 | 3 | 4 | \n",
    "|-------------------|---|---|---|---|\n",
    "| Solution optimale | 65 | 997 | 999 | 970 | \n",
    "| Temps d'exécution (ms) | 21 | 714 | 748 | 82 | \n",
    "\n",
    "### Question 5 : Comparaison des temps de calcl avec le B&B"
   ]
  }
 ],
 "metadata": {
  "kernelspec": {
   "display_name": "Julia 1.9.3",
   "language": "julia",
   "name": "julia-1.9"
  },
  "language_info": {
   "file_extension": ".jl",
   "mimetype": "application/julia",
   "name": "julia",
   "version": "1.9.3"
  }
 },
 "nbformat": 4,
 "nbformat_minor": 4
}
