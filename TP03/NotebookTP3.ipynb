{
 "cells": [
  {
   "cell_type": "markdown",
   "metadata": {},
   "source": [
    "# TP 3 : Paas le TP2\n"
   ]
  },
  {
   "cell_type": "markdown",
   "metadata": {},
   "source": [
    "relation de récurrence : C_i,j = max{C_i−1,j, C_i−1,j−wi + c_i}"
   ]
  },
  {
   "cell_type": "markdown",
   "metadata": {},
   "source": [
    "### Initialisation (à faire une seule fois)"
   ]
  },
  {
   "cell_type": "code",
   "execution_count": null,
   "metadata": {},
   "outputs": [],
   "source": [
    "import Pkg; \n",
    "Pkg.add(\"GraphRecipes\"); Pkg.add(\"Plots\"); \n",
    "using GraphRecipes, Plots #only used to visualize the search tree at the end of the branch-and-bound"
   ]
  },
  {
   "cell_type": "markdown",
   "metadata": {},
   "source": [
    "### Récupération des données"
   ]
  },
  {
   "cell_type": "code",
   "execution_count": 15,
   "metadata": {},
   "outputs": [
    {
     "data": {
      "text/plain": [
       "readKnaptxtInstance (generic function with 1 method)"
      ]
     },
     "metadata": {},
     "output_type": "display_data"
    }
   ],
   "source": [
    "function readKnaptxtInstance(filename)\n",
    "    price=Int64[]\n",
    "    weight=Int64[]\n",
    "    KnapCap=Int64[]\n",
    "    open(filename) do f\n",
    "        for i in 1:3\n",
    "            tok = split(readline(f))\n",
    "            if(tok[1] == \"ListPrices=\")\n",
    "                for i in 2:(length(tok)-1)\n",
    "                    push!(price,parse(Int64, tok[i]))\n",
    "                end\n",
    "            elseif(tok[1] == \"ListWeights=\")\n",
    "                for i in 2:(length(tok)-1)\n",
    "                    push!(weight,parse(Int64, tok[i]))\n",
    "                end\n",
    "            elseif(tok[1] == \"Capacity=\")\n",
    "                push!(KnapCap, parse(Int64, tok[2]))\n",
    "            else\n",
    "                println(\"Unknown read :\", tok)\n",
    "            end\n",
    "        end\n",
    "    end\n",
    "    capacity=KnapCap[1]\n",
    "    return price, weight, capacity\n",
    "end"
   ]
  },
  {
   "cell_type": "code",
   "execution_count": 84,
   "metadata": {},
   "outputs": [
    {
     "data": {
      "text/plain": [
       "solveKnapInstance (generic function with 1 method)"
      ]
     },
     "metadata": {},
     "output_type": "display_data"
    }
   ],
   "source": [
    "function solveKnapInstance(filename)\n",
    "    price, weight, capacity = readKnaptxtInstance(filename)\n",
    "    Bestsol=Float64[]\n",
    "\n",
    "    function C(i, j)\n",
    "        if j <= 0 || i <= 0\n",
    "            return 0\n",
    "        else\n",
    "            c1 = C(i-1, j)\n",
    "            c2 = C(i-1, j-weight[i]) + price[i]\n",
    "            if j-weight[i] < 0\n",
    "                return c1\n",
    "            else\n",
    "                return max(c1, c2)\n",
    "            end\n",
    "        end\n",
    "    end\n",
    "\n",
    "    BestProfit = C(length(weight), capacity)\n",
    "\n",
    "    i = length(weight)\n",
    "    j = capacity\n",
    "    while i > 1\n",
    "        c1 = C(i-1,j)\n",
    "        c2 = C(i-1,j-weight[i]) + price[i]\n",
    "        if c1 > c2\n",
    "            j = j\n",
    "            i = i-1\n",
    "        else\n",
    "            push!(Bestsol, i)\n",
    "            j = j-weight[i]\n",
    "            i = i-1\n",
    "        end\n",
    "    end\n",
    "\n",
    "    print(\"\\t\")\n",
    "    for j in 0:capacity\n",
    "        print(\"j=\", j, \"\\t\")\n",
    "    end\n",
    "    print(\"\\n\")\n",
    "    for i in 1:(length(weight))\n",
    "        print(\"i=\", i, \"\\t\")\n",
    "        for j in 0:capacity\n",
    "            print(C(i,j), \"\\t\")\n",
    "        end\n",
    "        print(\"\\n\")\n",
    "    end\n",
    "    \n",
    "    \n",
    "    println(\"\\n******\\n\\nOptimal value = \", BestProfit, \"\\n\\nOptimal x=\", Bestsol)\n",
    "\n",
    "    return BestProfit, Bestsol\n",
    "\n",
    "end\n"
   ]
  },
  {
   "cell_type": "code",
   "execution_count": 85,
   "metadata": {},
   "outputs": [
    {
     "name": "stdout",
     "output_type": "stream",
     "text": [
      "\tj=0\tj=1\tj=2\tj=3\tj=4\tj=5\tj=6\tj=7\tj=8\tj=9\tj=10\t\n",
      "i=1\t0\t0\t0\t0\t0\t0\t0\t42\t42\t42\t42\t\n",
      "i=2\t0\t0\t0\t0\t40\t40\t40\t42\t42\t42\t42\t\n",
      "i=3\t0\t0\t0\t12\t40\t40\t40\t52\t52\t52\t54\t\n",
      "i=4\t0\t0\t0\t12\t40\t40\t40\t52\t52\t65\t65\t\n",
      "\n",
      "******\n",
      "\n",
      "Optimal value = 65\n",
      "\n",
      "Optimal x=[4.0, 2.0]\n"
     ]
    },
    {
     "data": {
      "text/plain": [
       "(65, [4.0, 2.0])"
      ]
     },
     "metadata": {},
     "output_type": "display_data"
    }
   ],
   "source": [
    "INSTANCE = \"InstancesKnapSack/test.opb.txt\"\n",
    "\n",
    "solveKnapInstance(INSTANCE)"
   ]
  }
 ],
 "metadata": {
  "kernelspec": {
   "display_name": "Julia 1.9.3",
   "language": "julia",
   "name": "julia-1.9"
  },
  "language_info": {
   "file_extension": ".jl",
   "mimetype": "application/julia",
   "name": "julia",
   "version": "1.9.3"
  }
 },
 "nbformat": 4,
 "nbformat_minor": 4
}
